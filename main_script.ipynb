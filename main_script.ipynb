{
  "nbformat": 4,
  "nbformat_minor": 0,
  "metadata": {
    "colab": {
      "provenance": []
    },
    "kernelspec": {
      "name": "python3",
      "display_name": "Python 3"
    },
    "language_info": {
      "name": "python"
    }
  },
  "cells": [
    {
      "cell_type": "markdown",
      "source": [
        "## ДЗ 1 (ОБЯЗАТЕЛЬНОЕ): Анализ температурных данных и мониторинг текущей температуры через OpenWeatherMap API\n",
        "\n",
        "**Описание задания:**  \n",
        "Вы аналитик в компании, занимающейся изучением климатических изменений и мониторингом температур в разных городах. Вам нужно провести анализ исторических данных о температуре для выявления сезонных закономерностей и аномалий. Также необходимо подключить API OpenWeatherMap для получения текущей температуры в выбранных городах и сравнить её с историческими данными.\n",
        "\n",
        "\n",
        "### Цели задания:\n",
        "1. Провести **анализ временных рядов**, включая:\n",
        "   - Вычисление скользящего среднего и стандартного отклонения для сглаживания температурных колебаний.\n",
        "   - Определение аномалий на основе отклонений температуры от $ \\text{скользящее среднее} \\pm 2\\sigma $.\n",
        "   - Построение долгосрочных трендов изменения температуры.\n",
        "   - Любые дополнительные исследования будут вам в плюс.\n",
        "\n",
        "2. Осуществить **мониторинг текущей температуры**:\n",
        "   - Получить текущую температуру через OpenWeatherMap API.\n",
        "   - Сравнить её с историческим нормальным диапазоном для текущего сезона.\n",
        "\n",
        "3. Разработать **интерактивное приложение**:\n",
        "   - Дать пользователю возможность выбрать город.\n",
        "   - Отобразить результаты анализа температур, включая временные ряды, сезонные профили и аномалии.\n",
        "   - Провести анализ текущей температуры в контексте исторических данных.\n",
        "\n",
        "\n",
        "### Описание данных\n",
        "Исторические данные о температуре содержатся в файле `temperature_data.csv`, включают:\n",
        "  - `city`: Название города.\n",
        "  - `timestamp`: Дата (с шагом в 1 день).\n",
        "  - `temperature`: Среднесуточная температура (в °C).\n",
        "  - `season`: Сезон года (зима, весна, лето, осень).\n",
        "\n",
        "Код для генерации файла вы найдете ниже.\n",
        "\n",
        "### Этапы выполнения\n",
        "\n",
        "1. **Анализ исторических данных**:\n",
        "   - Вычислить **скользящее среднее** температуры с окном в 30 дней для сглаживания краткосрочных колебаний.\n",
        "   - Рассчитать среднюю температуру и стандартное отклонение для каждого сезона в каждом городе.\n",
        "   - Выявить аномалии, где температура выходит за пределы $ \\text{среднее} \\pm 2\\sigma $.\n",
        "   - Попробуйте распараллелить проведение этого анализа. Сравните скорость выполнения анализа с распараллеливанием и без него.\n",
        "\n",
        "2. **Мониторинг текущей температуры**:\n",
        "   - Подключить OpenWeatherMap API для получения текущей температуры города. Для получения API Key (бесплатно) надо зарегистрироваться на сайте. Обратите внимание, что API Key может активироваться только через 2-3 часа, это нормально. Посему получите ключ заранее.\n",
        "   - Получить текущую температуру для выбранного города через OpenWeatherMap API.\n",
        "   - Определить, является ли текущая температура нормальной, исходя из исторических данных для текущего сезона.\n",
        "   - Данные на самом деле не совсем реальные (сюрпрайз). Поэтому на момент эксперимента погода в Берлине, Каире и Дубае была в рамках нормы, а в Пекине и Москве аномальная. Протестируйте свое решение для разных городов.\n",
        "   - Попробуйте для получения текущей температуры использовать синхронные и асинхронные методы. Что здесь лучше использовать?\n",
        "\n",
        "3. **Создание приложения на Streamlit**:\n",
        "   - Добавить интерфейс для загрузки файла с историческими данными.\n",
        "   - Добавить интерфейс для выбора города (из выпадающего списка).\n",
        "   - Добавить форму для ввода API-ключа OpenWeatherMap. Когда он не введен, данные для текущей погоды не показываются. Если ключ некорректный, выведите на экран ошибку (должно приходить `{\"cod\":401, \"message\": \"Invalid API key. Please see https://openweathermap.org/faq#error401 for more info.\"}`).\n",
        "   - Отобразить:\n",
        "     - Описательную статистику по историческим данным для города, можно добавить визуализации.\n",
        "     - Временной ряд температур с выделением аномалий (например, точками другого цвета).\n",
        "     - Сезонные профили с указанием среднего и стандартного отклонения.\n",
        "   - Вывести текущую температуру через API и указать, нормальна ли она для сезона.\n",
        "\n",
        "### Критерии оценивания\n",
        "\n",
        "- Корректное проведение анализа данных – 1 балл.\n",
        "- Исследование распараллеливания анализа – 1 балл.\n",
        "- Корректный поиск аномалий – 1 балл.\n",
        "- Подключение к API и корректность выполнения запроса – 1 балл.\n",
        "- Проведение эксперимента с синхронным и асинхронным способом запроса к API – 1 балл.\n",
        "- Создание интерфейса приложения streamlit в соответствии с описанием – 3 балла.\n",
        "- Корректное отображение графиков и статистик, а также сезонных профилей – 1 балл.\n",
        "- Корректный вывод текущей температуры в выбранном городе и проведение проверки на ее аномальность – 1 балл.\n",
        "- Любая дополнительная функциональность приветствуется и оценивается бонусными баллами (не более 2 в сумме) на усмотрение проверяющего.\n",
        "\n",
        "### Формат сдачи домашнего задания\n",
        "\n",
        "Решение нужно развернуть в Streamlit Cloud (бесплатно)\n",
        "\n",
        "*   Создаем новый репозиторий на GitHub.  \n",
        "*   Загружаем проект.\n",
        "*   Создаем аккаунт в [Streamlit Cloud](https://streamlit.io/cloud).\n",
        "*   Авторизуемся в Streamlit Cloud.\n",
        "*   Создаем новое приложение в Streamlit Cloud и подключаем GitHub-репозиторий.\n",
        "*   Deploy!\n",
        "\n",
        "Сдать в форму необходимо:\n",
        "1. Ссылку на развернутое в Streamlit Cloud приложение.\n",
        "2. Ссылку на код. Все выводы про, например, использование параллельности/асинхронности опишите в комментариях.\n",
        "\n",
        "Не забудьте удалить ключ API и иную чувствительную информацию.\n",
        "\n",
        "### Полезные ссылки\n",
        "*   [Оформление задачи Титаник на Streamlit](https://github.com/evgpat/streamlit_demo)\n",
        "*   [Документация Streamlit](https://docs.streamlit.io/)\n",
        "*   [Блог о Streamlit](https://blog.streamlit.io/)"
      ],
      "metadata": {
        "id": "bVbHQbDDjw9i"
      }
    },
    {
      "cell_type": "code",
      "source": [
        "from sklearn.linear_model import LinearRegression\n",
        "import statsmodels.api as sm\n",
        "from datetime import datetime\n",
        "from concurrent.futures import ProcessPoolExecutor\n",
        "import threading\n",
        "import aiohttp\n",
        "import asyncio"
      ],
      "metadata": {
        "id": "1XSNnwSJ07Ub"
      },
      "execution_count": 14,
      "outputs": []
    },
    {
      "cell_type": "code",
      "source": [
        "import pandas as pd\n",
        "import numpy as np\n",
        "\n",
        "# Реальные средние температуры (примерные данные) для городов по сезонам\n",
        "seasonal_temperatures = {\n",
        "    \"New York\": {\"winter\": 0, \"spring\": 10, \"summer\": 25, \"autumn\": 15},\n",
        "    \"London\": {\"winter\": 5, \"spring\": 11, \"summer\": 18, \"autumn\": 12},\n",
        "    \"Paris\": {\"winter\": 4, \"spring\": 12, \"summer\": 20, \"autumn\": 13},\n",
        "    \"Tokyo\": {\"winter\": 6, \"spring\": 15, \"summer\": 27, \"autumn\": 18},\n",
        "    \"Moscow\": {\"winter\": -10, \"spring\": 5, \"summer\": 18, \"autumn\": 8},\n",
        "    \"Sydney\": {\"winter\": 12, \"spring\": 18, \"summer\": 25, \"autumn\": 20},\n",
        "    \"Berlin\": {\"winter\": 0, \"spring\": 10, \"summer\": 20, \"autumn\": 11},\n",
        "    \"Beijing\": {\"winter\": -2, \"spring\": 13, \"summer\": 27, \"autumn\": 16},\n",
        "    \"Rio de Janeiro\": {\"winter\": 20, \"spring\": 25, \"summer\": 30, \"autumn\": 25},\n",
        "    \"Dubai\": {\"winter\": 20, \"spring\": 30, \"summer\": 40, \"autumn\": 30},\n",
        "    \"Los Angeles\": {\"winter\": 15, \"spring\": 18, \"summer\": 25, \"autumn\": 20},\n",
        "    \"Singapore\": {\"winter\": 27, \"spring\": 28, \"summer\": 28, \"autumn\": 27},\n",
        "    \"Mumbai\": {\"winter\": 25, \"spring\": 30, \"summer\": 35, \"autumn\": 30},\n",
        "    \"Cairo\": {\"winter\": 15, \"spring\": 25, \"summer\": 35, \"autumn\": 25},\n",
        "    \"Mexico City\": {\"winter\": 12, \"spring\": 18, \"summer\": 20, \"autumn\": 15},\n",
        "}\n",
        "\n",
        "# Сопоставление месяцев с сезонами\n",
        "month_to_season = {12: \"winter\", 1: \"winter\", 2: \"winter\",\n",
        "                   3: \"spring\", 4: \"spring\", 5: \"spring\",\n",
        "                   6: \"summer\", 7: \"summer\", 8: \"summer\",\n",
        "                   9: \"autumn\", 10: \"autumn\", 11: \"autumn\"}\n",
        "\n",
        "# Генерация данных о температуре\n",
        "def generate_realistic_temperature_data(cities, num_years=10):\n",
        "    dates = pd.date_range(start=\"2010-01-01\", periods=365 * num_years, freq=\"D\")\n",
        "    data = []\n",
        "\n",
        "    for city in cities:\n",
        "        for date in dates:\n",
        "            season = month_to_season[date.month]\n",
        "            mean_temp = seasonal_temperatures[city][season]\n",
        "            # Добавляем случайное отклонение\n",
        "            temperature = np.random.normal(loc=mean_temp, scale=5)\n",
        "            data.append({\"city\": city, \"timestamp\": date, \"temperature\": temperature})\n",
        "\n",
        "    df = pd.DataFrame(data)\n",
        "    df['season'] = df['timestamp'].dt.month.map(lambda x: month_to_season[x])\n",
        "    return df\n",
        "\n",
        "# Генерация данных\n",
        "data = generate_realistic_temperature_data(list(seasonal_temperatures.keys()))\n",
        "data.to_csv('temperature_data.csv', index=False)\n"
      ],
      "metadata": {
        "id": "SsrwTMhRj6dK"
      },
      "execution_count": 15,
      "outputs": []
    },
    {
      "cell_type": "code",
      "source": [
        "#посмотрим на график исторчиеских данных\n",
        "import matplotlib.pyplot as plt\n",
        "\n",
        "# Задаём размер графика\n",
        "plt.figure(figsize=(12, 6))\n",
        "d = data[data['city'] == 'New York']\n",
        "# Построение линейчатого графика временного ряда\n",
        "plt.plot(d['timestamp'], d['temperature'])\n",
        "\n",
        "# Устанавливаем заголовки и легенду\n",
        "plt.title('График темп в Нью-Йорке')\n",
        "plt.xlabel('Дата')\n",
        "plt.ylabel('Температура')\n",
        "plt.legend()\n",
        "plt.show()"
      ],
      "metadata": {
        "colab": {
          "base_uri": "https://localhost:8080/",
          "height": 604
        },
        "id": "J-UVsG64l55L",
        "outputId": "519b5a64-de8f-499c-bafe-f4f6ba3548a1"
      },
      "execution_count": 16,
      "outputs": [
        {
          "output_type": "stream",
          "name": "stderr",
          "text": [
            "WARNING:matplotlib.legend:No artists with labels found to put in legend.  Note that artists whose label start with an underscore are ignored when legend() is called with no argument.\n"
          ]
        },
        {
          "output_type": "display_data",
          "data": {
            "text/plain": [
              "<Figure size 1200x600 with 1 Axes>"
            ],
            "image/png": "[encoded data removed]"
          },
          "metadata": {}
        }
      ]
    },
    {
      "cell_type": "code",
      "source": [
        "def hist_analisys(data):\n",
        "  cities = data.city.unique()\n",
        "  stats = {}\n",
        "  for i in cities:\n",
        "    d = data[data['city'] == i].copy()\n",
        "    roll_mean = list(d['temperature'].rolling(30, min_periods = 1).mean())\n",
        "    roll_std = list(d['temperature'].rolling(30, min_periods = 1).std())\n",
        "    d['rolling_mean']= roll_mean\n",
        "    d['rolling_std'] = roll_std\n",
        "    anomaly = d[(d['temperature'] > d['rolling_mean']+2*d['rolling_std'])|(d['temperature'] < d['rolling_mean']-2*d['rolling_std'])]\n",
        "    profile = d.groupby(by = 'season', as_index = False)['temperature'].agg(['mean','std']).set_index('season')\n",
        "    lr = LinearRegression().fit(pd.DataFrame(d['timestamp']), pd.DataFrame(d['temperature']))\n",
        "    trend = lr.coef_\n",
        "    minst, maxst, meanst = d['temperature'].min(), d['temperature'].max(), d['temperature'].mean()\n",
        "    stats[i]={'min':minst, 'max':maxst,'mean':meanst, 'stats':profile,'trend':trend, 'anomalies':anomaly}\n",
        "  return stats\n",
        "  #ищем аномалии относительно скользящих\n",
        "  #anomaly = data[(data['temperature'] > data['rolling_mean']+2*data['rolling_std'])|(data['temperature'] < data['rolling_mean']-2*data['rolling_std'])]\n",
        "  #группируем по сезону и получаем профиль сезон-город-среднее-стд\n",
        "  #profile = data.groupby(by = ['city', 'season'], as_index = False)['temperature'].agg(['mean','std'])\n",
        "  #находим долгосрочный тренд\n"
      ],
      "metadata": {
        "id": "fePACVnXmZys"
      },
      "execution_count": 17,
      "outputs": []
    },
    {
      "cell_type": "code",
      "source": [
        "%%time\n",
        "statistics = hist_analisys(data)"
      ],
      "metadata": {
        "colab": {
          "base_uri": "https://localhost:8080/"
        },
        "id": "2-qcTdnx9SWG",
        "outputId": "69ca0e2d-475b-476d-cabd-e7864cb47e1e"
      },
      "execution_count": 18,
      "outputs": [
        {
          "output_type": "stream",
          "name": "stdout",
          "text": [
            "CPU times: user 364 ms, sys: 2.71 ms, total: 367 ms\n",
            "Wall time: 1.17 s\n"
          ]
        }
      ]
    },
    {
      "cell_type": "code",
      "source": [
        "statistics['New York']['trend']"
      ],
      "metadata": {
        "colab": {
          "base_uri": "https://localhost:8080/"
        },
        "id": "zRSwd8xgwvv7",
        "outputId": "7de0e1f4-be46-4ecc-af9c-062661ee21c5"
      },
      "execution_count": 39,
      "outputs": [
        {
          "output_type": "execute_result",
          "data": {
            "text/plain": [
              "array([[2.94195234e-18]])"
            ]
          },
          "metadata": {},
          "execution_count": 39
        }
      ]
    },
    {
      "cell_type": "code",
      "source": [
        "#записываем статистику для использования в приложении\n",
        "import pickle\n",
        "\n",
        "with open('stats.pkl', 'wb') as f:\n",
        "    pickle.dump(statistics, f)"
      ],
      "metadata": {
        "id": "k1rNV5V7xeJT"
      },
      "execution_count": 20,
      "outputs": []
    },
    {
      "cell_type": "code",
      "source": [
        "#Параллелилизм\n",
        "%%time\n",
        "l = [data[data['city'] == i].copy() for i in seasonal_temperatures.keys()]\n",
        "with ProcessPoolExecutor() as executor:\n",
        "    results_parallel = list(executor.map(hist_analisys, l))"
      ],
      "metadata": {
        "colab": {
          "base_uri": "https://localhost:8080/"
        },
        "id": "luHn6iofiuS0",
        "outputId": "8e0bccf4-6851-4e79-d763-6caed8ab9731"
      },
      "execution_count": 21,
      "outputs": [
        {
          "output_type": "stream",
          "name": "stdout",
          "text": [
            "CPU times: user 104 ms, sys: 27.1 ms, total: 132 ms\n",
            "Wall time: 282 ms\n"
          ]
        }
      ]
    },
    {
      "cell_type": "markdown",
      "source": [
        "Чисто ради интереса попробую ассинхронность, на деле в данном кейсе она ничего не дала"
      ],
      "metadata": {
        "id": "hAY1GBlgkxUT"
      }
    },
    {
      "cell_type": "code",
      "source": [
        "import nest_asyncio\n",
        "nest_asyncio.apply()"
      ],
      "metadata": {
        "id": "ehbxCt4XBPPe"
      },
      "execution_count": 23,
      "outputs": []
    },
    {
      "cell_type": "code",
      "source": [
        "import asyncio"
      ],
      "metadata": {
        "id": "kArHELXkG7CQ"
      },
      "execution_count": 24,
      "outputs": []
    },
    {
      "cell_type": "code",
      "source": [
        "#распаралелили по городам\n",
        "%%time\n",
        "\n",
        "async def hist_analisys_async(d):\n",
        "  stats = {}\n",
        "  roll_mean = list(d['temperature'].rolling(30, min_periods = 1).mean())\n",
        "  roll_std = list(d['temperature'].rolling(30, min_periods = 1).std())\n",
        "  d['rolling_mean']= roll_mean\n",
        "  d['rolling_std'] = roll_std\n",
        "  anomaly = d[(d['temperature'] > d['rolling_mean']+2*d['rolling_std'])|(d['temperature'] < d['rolling_mean']-2*d['rolling_std'])]\n",
        "  profile = d.groupby(by = 'season', as_index = False)['temperature'].agg(['mean','std']).set_index('season')\n",
        "  lr = LinearRegression().fit(pd.DataFrame(d['timestamp']), pd.DataFrame(d['temperature']))\n",
        "  trend = lr.coef_\n",
        "  minst, maxst, meanst = d['temperature'].min(), d['temperature'].max(), d['temperature'].mean()\n",
        "  stats={'min':minst, 'max':maxst,'mean':meanst, 'stats':profile,'trend':trend, 'anomalies':anomaly}\n",
        "  return stats\n",
        "\n",
        "async def main():\n",
        "  result = await asyncio.gather(hist_analisys_async(data[data['city'] == 'New York'].copy()), hist_analisys_async(data[data['city'] == 'London'].copy()),\n",
        "          hist_analisys_async(data[data['city'] == 'Paris'].copy()), hist_analisys_async(data[data['city'] == 'Tokyo'].copy()),\n",
        "          hist_analisys_async(data[data['city'] == 'Moscow'].copy()), hist_analisys_async(data[data['city'] == 'Sydney'].copy()),\n",
        "          hist_analisys_async(data[data['city'] == 'Berlin'].copy()), hist_analisys_async(data[data['city'] == 'Beijing'].copy()),\n",
        "           hist_analisys_async(data[data['city'] == 'Rio de Janeiro'].copy()), hist_analisys_async(data[data['city'] == 'Dubai'].copy()),\n",
        "           hist_analisys_async(data[data['city'] == 'Los Angeles'].copy()), hist_analisys_async(data[data['city'] == 'Singapore'].copy()),\n",
        "           hist_analisys_async(data[data['city'] == 'Mumbai'].copy()), hist_analisys_async(data[data['city'] == 'Cairo'].copy()),\n",
        "           hist_analisys_async(data[data['city'] == 'Mexico City'].copy()))\n",
        "  #return result\n",
        "\n",
        "asyncio.run(main())"
      ],
      "metadata": {
        "colab": {
          "base_uri": "https://localhost:8080/"
        },
        "id": "_Xa72mGcHDsw",
        "outputId": "920b3c32-08c7-408f-9b2e-2f44fd13cb3a"
      },
      "execution_count": 25,
      "outputs": [
        {
          "output_type": "stream",
          "name": "stdout",
          "text": [
            "CPU times: user 202 ms, sys: 6.16 ms, total: 208 ms\n",
            "Wall time: 207 ms\n"
          ]
        }
      ]
    },
    {
      "cell_type": "markdown",
      "source": [
        "OpenAPI"
      ],
      "metadata": {
        "id": "q3GeGFNNZ9Tc"
      }
    },
    {
      "cell_type": "code",
      "source": [
        "import requests"
      ],
      "metadata": {
        "id": "uqlWBW4hZ-1r"
      },
      "execution_count": 26,
      "outputs": []
    },
    {
      "cell_type": "code",
      "source": [
        "APIKEY = 'd00f620c8404d60abb2e16c6d1ad5c89'"
      ],
      "metadata": {
        "id": "RUoaaRblHdgg"
      },
      "execution_count": 36,
      "outputs": []
    },
    {
      "cell_type": "code",
      "source": [
        "#receive geo lon and lat for London\n",
        "urlg = 'http://api.openweathermap.org/geo/1.0/direct'\n",
        "paramsg = {'q':'London','appid':APIKEY}\n",
        "response_geo = requests.get(urlg, paramsg)"
      ],
      "metadata": {
        "id": "laqusIyQGX51"
      },
      "execution_count": 37,
      "outputs": []
    },
    {
      "cell_type": "code",
      "source": [
        "print(response_geo.status_code)\n",
        "lat = response_geo.json()[0]['lat']\n",
        "lon = response_geo.json()[0]['lon']"
      ],
      "metadata": {
        "colab": {
          "base_uri": "https://localhost:8080/"
        },
        "id": "84E8ZFIEG77V",
        "outputId": "9ab36ee8-8ec5-4f89-babd-de02425405f9"
      },
      "execution_count": 38,
      "outputs": [
        {
          "output_type": "stream",
          "name": "stdout",
          "text": [
            "200\n"
          ]
        }
      ]
    },
    {
      "cell_type": "code",
      "source": [
        "#receive current temperature data in London (Celsius)\n",
        "url = 'https://api.openweathermap.org/data/2.5/weather'\n",
        "params = {'lat':lat, 'lon':lon, 'units': 'metric', 'appid': APIKEY}\n",
        "response = requests.get(url, params)"
      ],
      "metadata": {
        "id": "rJurm2vMCrrx"
      },
      "execution_count": 30,
      "outputs": []
    },
    {
      "cell_type": "code",
      "source": [
        "#check if temperature is normal (not anomaly) for London\n",
        "resp_season = month_to_season[datetime.fromtimestamp(response.json()['dt']).month]\n",
        "needed_stat = statistics['London']['stats'][statistics['London']['stats'].index== resp_season]\n",
        "if response.json()['main']['temp'] > needed_stat['mean'][resp_season] + 2*needed_stat['std'][resp_season] or response.json()['main']['temp'] < needed_stat['mean'][resp_season] - 2*needed_stat['std'][resp_season]:\n",
        "  print('Температура аномальная')\n",
        "else:\n",
        "  print('Температура в пределах нормы')"
      ],
      "metadata": {
        "colab": {
          "base_uri": "https://localhost:8080/"
        },
        "id": "rdtSHRggHon2",
        "outputId": "9a46e415-0085-4c84-b8b4-66ec51daa5ed"
      },
      "execution_count": 18,
      "outputs": [
        {
          "output_type": "stream",
          "name": "stdout",
          "text": [
            "Температура в пределах нормы\n"
          ]
        }
      ]
    },
    {
      "cell_type": "code",
      "source": [
        "#check if temp is normal (no more than 2 std erros devitation from the mean) for other cities\n",
        "%%time\n",
        "\n",
        "result = {}\n",
        "for i in seasonal_temperatures.keys():\n",
        "  paramsg = {'q':i,'appid':APIKEY}\n",
        "  response_g = requests.get(urlg, paramsg)\n",
        "  lat_a = response_g.json()[0]['lat']\n",
        "  lon_a = response_g.json()[0]['lon']\n",
        "  params_all = {'lat':lat_a, 'lon':lon_a, 'units': 'metric', 'appid': APIKEY}\n",
        "  response_all = requests.get(url, params_all)\n",
        "  resp_season = month_to_season[datetime.fromtimestamp(response_all.json()['dt']).month]\n",
        "  needed_stat = statistics[i]['stats'][statistics[i]['stats'].index== resp_season]\n",
        "  if response_all.json()['main']['temp'] < needed_stat['mean'][resp_season] + 2*needed_stat['std'][resp_season] and response_all.json()['main']['temp'] > needed_stat['mean'][resp_season] - 2*needed_stat['std'][resp_season]:\n",
        "    result[i] = 'Температура в пределах нормы'\n",
        "  else:\n",
        "    result[i] = 'Температура аномальная'"
      ],
      "metadata": {
        "colab": {
          "base_uri": "https://localhost:8080/"
        },
        "id": "ji83rxvgWzKG",
        "outputId": "d0cabe1c-1bd7-4935-b281-e3f279d2f308"
      },
      "execution_count": 39,
      "outputs": [
        {
          "output_type": "stream",
          "name": "stdout",
          "text": [
            "CPU times: user 184 ms, sys: 15.3 ms, total: 200 ms\n",
            "Wall time: 3.71 s\n"
          ]
        }
      ]
    },
    {
      "cell_type": "code",
      "source": [
        "result"
      ],
      "metadata": {
        "colab": {
          "base_uri": "https://localhost:8080/"
        },
        "id": "HRDSkIRkeJRs",
        "outputId": "6d4a59a6-8db6-4c79-f0a5-f4ab6611d450"
      },
      "execution_count": 21,
      "outputs": [
        {
          "output_type": "execute_result",
          "data": {
            "text/plain": [
              "{'New York': 'Температура в пределах нормы',\n",
              " 'London': 'Температура в пределах нормы',\n",
              " 'Paris': 'Температура в пределах нормы',\n",
              " 'Tokyo': 'Температура в пределах нормы',\n",
              " 'Moscow': 'Температура в пределах нормы',\n",
              " 'Sydney': 'Температура аномальная',\n",
              " 'Berlin': 'Температура в пределах нормы',\n",
              " 'Beijing': 'Температура в пределах нормы',\n",
              " 'Rio de Janeiro': 'Температура в пределах нормы',\n",
              " 'Dubai': 'Температура в пределах нормы',\n",
              " 'Los Angeles': 'Температура в пределах нормы',\n",
              " 'Singapore': 'Температура в пределах нормы',\n",
              " 'Mumbai': 'Температура в пределах нормы',\n",
              " 'Cairo': 'Температура в пределах нормы',\n",
              " 'Mexico City': 'Температура в пределах нормы'}"
            ]
          },
          "metadata": {},
          "execution_count": 21
        }
      ]
    },
    {
      "cell_type": "code",
      "source": [
        "#Многопоточность\n",
        "%%time\n",
        "def temp_check(q, key):\n",
        "  urlg = 'http://api.openweathermap.org/geo/1.0/direct'\n",
        "  paramsg = {'q':q,'appid':key}\n",
        "  response_geo = requests.get(urlg, paramsg)\n",
        "  lat = response_geo.json()[0]['lat']\n",
        "  lon = response_geo.json()[0]['lon']\n",
        "  url = 'https://api.openweathermap.org/data/2.5/weather'\n",
        "  params = {'lat':lat, 'lon':lon, 'units': 'metric', 'appid': APIKEY}\n",
        "  response = requests.get(url, params)\n",
        "  resp_season = month_to_season[datetime.fromtimestamp(response.json()['dt']).month]\n",
        "  needed_stat = statistics[i]['stats'][statistics[i]['stats'].index== resp_season]\n",
        "  if response_all.json()['main']['temp'] < needed_stat['mean'][resp_season] + 2*needed_stat['std'][resp_season] and response_all.json()['main']['temp'] > needed_stat['mean'][resp_season] - 2*needed_stat['std'][resp_season]:\n",
        "    print(f'{q}: Температура в пределах нормы')\n",
        "  else:\n",
        "    print('Температура аномальная')\n",
        "\n",
        "def process_threading(list):\n",
        "    threads = [threading.Thread(target=temp_check, args=(i,APIKEY)) for i in list]\n",
        "    for thread in threads:\n",
        "        thread.start()\n",
        "    for thread in threads:\n",
        "        thread.join()\n",
        "\n",
        "cities = data.city.unique()\n",
        "process_threading(cities)"
      ],
      "metadata": {
        "id": "dOb75lxQeK6s",
        "colab": {
          "base_uri": "https://localhost:8080/"
        },
        "outputId": "77f9b0c7-a7d5-4106-ab28-d00776d5f853"
      },
      "execution_count": 38,
      "outputs": [
        {
          "output_type": "stream",
          "name": "stdout",
          "text": [
            "Tokyo: Температура в пределах нормы\n",
            "Mexico City: Температура в пределах нормы\n",
            "Sydney: Температура в пределах нормыSingapore: Температура в пределах нормыMoscow: Температура в пределах нормы\n",
            "Beijing: Температура в пределах нормы\n",
            "\n",
            "\n",
            "Cairo: Температура в пределах нормы\n",
            "Paris: Температура в пределах нормы\n",
            "Los Angeles: Температура в пределах нормы\n",
            "New York: Температура в пределах нормы\n",
            "Berlin: Температура в пределах нормы\n",
            "Rio de Janeiro: Температура в пределах нормы\n",
            "London: Температура в пределах нормы\n",
            "Mumbai: Температура в пределах нормы\n",
            "Dubai: Температура в пределах нормы\n",
            "CPU times: user 140 ms, sys: 20.4 ms, total: 161 ms\n",
            "Wall time: 368 ms\n"
          ]
        }
      ]
    },
    {
      "cell_type": "code",
      "source": [
        "#Ассинхронность\n",
        "async def fetch_geo_data(q, key):\n",
        "    urlg = 'http://api.openweathermap.org/geo/1.0/direct'\n",
        "    paramsg = {'q':q,'appid':key}\n",
        "    async with aiohttp.ClientSession() as session:\n",
        "        async with session.get(urlg, paramsg) as response:\n",
        "            content = await response.text()\n",
        "            return content\n",
        "\n",
        "async def fetch_data(q,key):\n",
        "    geo_response = await fetch_geo_data(q, key)\n",
        "    lat = geo_response.json()[0]['lat']\n",
        "    lon = geo_response.json()[0]['lon']\n",
        "    params = {'lat':lat, 'lon':lon, 'units': 'metric', 'appid': key}\n",
        "    url = 'https://api.openweathermap.org/data/2.5/weather'\n",
        "    async with aiohttp.ClientSession() as session:\n",
        "        async with session.get(url, params) as response:\n",
        "            content1 = await response.text()\n",
        "            return content1\n",
        "\n",
        "async def fetch_data(q,key):\n",
        "    response = await fetch_data(q, key)\n",
        "    resp_season = month_to_season[datetime.fromtimestamp(response.json()['dt']).month]\n",
        "    needed_stat = statistics[i]['stats'][statistics[i]['stats'].index== resp_season]\n",
        "    if response_all.json()['main']['temp'] < needed_stat['mean'][resp_season] + 2*needed_stat['std'][resp_season] and response_all.json()['main']['temp'] > needed_stat['mean'][resp_season] - 2*needed_stat['std'][resp_season]:\n",
        "      print(f'{q}: Температура в пределах нормы')\n",
        "    else:\n",
        "      print('Температура аномальная')\n",
        "\n",
        "async def main():\n",
        "    tasks = [fetch_data(city, APIKEY) for city in cities]\n",
        "    await asyncio.gather(*tasks)\n",
        "\n",
        "asyncio.run(main())"
      ],
      "metadata": {
        "id": "IEbfihtIWapZ"
      },
      "execution_count": null,
      "outputs": []
    },
    {
      "cell_type": "markdown",
      "source": [
        "Streamlit приложение в отдельном скрипте"
      ],
      "metadata": {
        "id": "CAySN-Bndv7V"
      }
    },
    {
      "cell_type": "code",
      "source": [],
      "metadata": {
        "id": "G-ppMTaIwJmM"
      },
      "execution_count": null,
      "outputs": []
    }
  ]
}
